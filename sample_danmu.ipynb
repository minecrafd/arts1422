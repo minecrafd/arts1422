{
 "cells": [
  {
   "cell_type": "code",
   "execution_count": 24,
   "metadata": {
    "collapsed": true
   },
   "outputs": [],
   "source": []
  },
  {
   "cell_type": "code",
   "execution_count": 25,
   "outputs": [],
   "source": [
    "import requests\n",
    "import json\n",
    "import chardet\n",
    "import re\n",
    "import pandas as pd\n",
    "import numpy as np\n",
    "from pprint import pprint\n",
    "import requests\n",
    "\n",
    "import dm_pb2 as Danmaku\n"
   ],
   "metadata": {
    "collapsed": false
   }
  },
  {
   "cell_type": "code",
   "execution_count": 26,
   "outputs": [
    {
     "name": "stdout",
     "output_type": "stream",
     "text": [
      "{'code': 0,\n",
      " 'data': [{'cid': 807427488,\n",
      "           'dimension': {'height': 2160, 'rotate': 0, 'width': 3840},\n",
      "           'duration': 60,\n",
      "           'first_frame': 'http://i1.hdslb.com/bfs/storyff/n220818qn1r63g1judtydg1wvft368d2_firsti.jpg',\n",
      "           'from': 'vupload',\n",
      "           'page': 1,\n",
      "           'part': '【4K顶级画质60FPS】蔡徐坤《只因你太美》原版完整版现场！一晃眼6年过去了',\n",
      "           'vid': '',\n",
      "           'weblink': ''}],\n",
      " 'message': '0',\n",
      " 'ttl': 1}\n",
      "807427488\n"
     ]
    }
   ],
   "source": [
    "# 1.根据bvid请求得到cid\n",
    "\n",
    "def get_cid():\n",
    "    url = 'https://api.bilibili.com/x/player/pagelist?bvid=BV1ct4y1n7t9'\n",
    "    res = requests.get(url).text\n",
    "    json_dict = json.loads(res)\n",
    "    pprint(json_dict)\n",
    "    return json_dict[\"data\"][0][\"cid\"]\n",
    "cid = get_cid()\n",
    "print(cid)\n",
    "\n"
   ],
   "metadata": {
    "collapsed": false
   }
  },
  {
   "cell_type": "code",
   "execution_count": 33,
   "outputs": [
    {
     "name": "stdout",
     "output_type": "stream",
     "text": [
      "2583\n"
     ]
    }
   ],
   "source": [
    "# 更新：新版api需要使用proto获取弹幕文件\n",
    "def get_prot_dm(cid):\n",
    "    url = 'https://api.bilibili.com/x/v2/dm/web/seg.so'\n",
    "    params = {\n",
    "        'type': 1,         # 弹幕类型\n",
    "        'oid': cid,    # cid\n",
    "        'segment_index': 1 # 弹幕分段\n",
    "    }\n",
    "    resp = requests.get(url, params)\n",
    "    data = resp.content\n",
    "\n",
    "    danmaku_seg = Danmaku.DmSegMobileReply()\n",
    "    danmaku_seg.ParseFromString(data)\n",
    "\n",
    "    return danmaku_seg.elems\n",
    "\n",
    "danmu_proto = get_prot_dm(cid)\n",
    "print(len(danmu_proto))"
   ],
   "metadata": {
    "collapsed": false
   }
  },
  {
   "cell_type": "code",
   "execution_count": 39,
   "outputs": [
    {
     "name": "stdout",
     "output_type": "stream",
     "text": [
      "                       id  progress                               content\n",
      "0     1122558100960985600      2165                           这个鼻子反光，笑死我了\n",
      "1     1123701354657768192       519       b站冷知识：点赞和关注是免费的，却可以让做视频的up开心好几天\n",
      "2     1125201605340467968     21367                                  口技细节\n",
      "3     1126748923101412352     13483                                  太清晰了\n",
      "4     1127315387663627520     27516                                  白带异常\n",
      "...                   ...       ...                                   ...\n",
      "2578  1308734639422320384     26929                         重回巅峰！！！！！！！！！\n",
      "2579  1308822999214058752     12045  ——————————————《梦开始的地方》——————————————\n",
      "2580  1308846297138145280     52004                              《梦开始的地方》\n",
      "2581  1309195021874303744     58901                               不愧是我家哥哥\n",
      "2582  1309257063397989120      9685                      徐坤居然还戴着耳坠，以前没注意到\n",
      "\n",
      "[2583 rows x 3 columns]\n"
     ]
    }
   ],
   "source": [
    "#得到弹幕 array\n",
    "def to_list(prot):\n",
    "    l = []\n",
    "    for i in range(len(prot)):\n",
    "        l.append({})\n",
    "        l[i][\"id\"] = prot[i].id\n",
    "        l[i][\"progress\"] = prot[i].progress\n",
    "        l[i][\"content\"] = prot[i].content\n",
    "\n",
    "    return l\n",
    "listed_danmu = to_list(danmu_proto)\n",
    "df = pd.DataFrame(listed_danmu)\n",
    "print(df)\n",
    "df.to_csv(\"video.csv\")"
   ],
   "metadata": {
    "collapsed": false
   }
  },
  {
   "cell_type": "code",
   "execution_count": 28,
   "outputs": [],
   "source": [
    "# 2.根据cid请求弹幕，解析弹幕得到最终的数据\n",
    "\n",
    "# def get_data(cid):\n",
    "#     final_url = \"https://api.bilibili.com/x/v1/dm/list.so?oid=\" + str(cid)\n",
    "#     final_res = requests.get(final_url)\n",
    "#     final_res.encoding = chardet.detect(final_res.content)['encoding']\n",
    "#     final_res = final_res.text\n",
    "#     pattern = re.compile('<d.*?>(.*?)</d>')\n",
    "#     match = re.compile(r'<d\\s+[^>]*\\bp=\"([^\"]*)\"')\n",
    "#     pa = match.findall(final_res)\n",
    "#\n",
    "#     data = pattern.findall(final_res)\n",
    "#     danmu_time = [float(item.split(',')[0]) for item in pa]\n",
    "#     danmu_mode = [float(item.split(',')[1]) for item in pa]\n",
    "#     danmu_size = [float(item.split(',')[2]) for item in pa]\n",
    "#     danmu_color = [float(item.split(',')[3]) for item in pa]\n",
    "#     danmu_abstime = [float(item.split(',')[4]) for item in pa]\n",
    "#     danmu_pool = [float(item.split(',')[5]) for item in pa]\n",
    "#     danmu_id = [(item.split(',')[6]) for item in pa]\n",
    "#     danmu_rowid = [float(item.split(',')[7]) for item in pa]\n",
    "#     print(len(data))\n",
    "#     return (data, danmu_time, danmu_mode, danmu_size, danmu_color, danmu_abstime, danmu_pool, danmu_id, danmu_rowid)\n",
    "#\n",
    "#\n",
    "# (danmu_text, danmu_time, danmu_mode, danmu_size, danmu_color, danmu_abstime, danmu_pool, danmu_id, danmu_rowid) = get_data(cid)"
   ],
   "metadata": {
    "collapsed": false
   }
  },
  {
   "cell_type": "code",
   "execution_count": 29,
   "outputs": [],
   "source": [
    "# # 分割弹幕为八个部分\n",
    "# # 视频持续时间\n",
    "# max_time = max(danmu_time)\n",
    "# divided_danmu = []\n",
    "# for i in range(8):\n",
    "#     time_start = max_time * (i/8)\n",
    "#     time_stop = max_time * ((i+1)/8)\n",
    "#     for j in range(len(danmu_time)):\n",
    "#         if time_start <= danmu_time[j] <= time_stop:\n",
    "#             divided_danmu.append([i, danmu_text[j]])\n",
    "# print(len(danmu_time))"
   ],
   "metadata": {
    "collapsed": false
   }
  },
  {
   "cell_type": "code",
   "execution_count": 30,
   "outputs": [],
   "source": [
    "# export csv\n",
    "# arr = np.array(divided_danmu)\n",
    "# df = pd.DataFrame(arr)\n",
    "# df.to_csv(\"video.csv\", header=[\"label\", \"text\"])"
   ],
   "metadata": {
    "collapsed": false
   }
  },
  {
   "cell_type": "code",
   "execution_count": 31,
   "outputs": [
    {
     "name": "stdout",
     "output_type": "stream",
     "text": [
      "40\n"
     ]
    }
   ],
   "source": [
    "import requests\n",
    "\n",
    "# 设置请求参数\n",
    "params = {\n",
    "    \"bvid\": \"BV1J4411v7g6\",  # 你想获取推荐视频的原始视频的aid\n",
    "    \"num\": 1,  # 获取的推荐视频数量，最多为40\n",
    "}\n",
    "\n",
    "# 发送请求\n",
    "response = requests.get(\"https://api.bilibili.com/x/web-interface/archive/related\", params=params)\n",
    "\n",
    "# 解析响应\n",
    "if response.status_code == 200:\n",
    "    data = response.json()\n",
    "    recommend_list = data.get(\"data\")\n",
    "    # 处理推荐视频列表数据\n",
    "    print(len(recommend_list))\n",
    "else:\n",
    "    print(\"请求失败\")\n"
   ],
   "metadata": {
    "collapsed": false
   }
  },
  {
   "cell_type": "code",
   "execution_count": 32,
   "outputs": [
    {
     "ename": "SyntaxError",
     "evalue": "invalid syntax (3688025231.py, line 2)",
     "output_type": "error",
     "traceback": [
      "\u001B[1;36m  File \u001B[1;32m\"C:\\Users\\djhxx\\AppData\\Local\\Temp\\ipykernel_16708\\3688025231.py\"\u001B[1;36m, line \u001B[1;32m2\u001B[0m\n\u001B[1;33m    for i\u001B[0m\n\u001B[1;37m         ^\u001B[0m\n\u001B[1;31mSyntaxError\u001B[0m\u001B[1;31m:\u001B[0m invalid syntax\n"
     ]
    }
   ],
   "source": [
    "#迭代获取其他视频的推荐\n",
    "for i"
   ],
   "metadata": {
    "collapsed": false
   }
  },
  {
   "cell_type": "code",
   "execution_count": null,
   "outputs": [],
   "source": [
    "# 3.保存弹幕列表\n",
    "\n",
    "def save_to_file(data):\n",
    "    with open(\"dan_mu.txt\", mode=\"w\", encoding=\"utf-8\") as f:\n",
    "        for i in data:\n",
    "            f.write(i)\n",
    "            f.write(\"\\n\")\n",
    "save_to_file(data)\n"
   ],
   "metadata": {
    "collapsed": false
   }
  },
  {
   "cell_type": "code",
   "execution_count": null,
   "outputs": [],
   "source": [
    "# 1 导入相关库\n",
    "import pandas as pd\n",
    "import jieba\n",
    "from wordcloud import WordCloud\n",
    "import matplotlib.pyplot as plt\n",
    "from imageio import imread\n",
    "\n",
    "import warnings\n",
    "warnings.filterwarnings(\"ignore\")\n",
    "\n",
    "# 2 读取文本文件，并使用lcut()方法进行分词\n",
    "with open(\"dan_mu.txt\",encoding=\"utf-8\") as f:\n",
    "    txt = f.read()\n",
    "txt = txt.split()\n",
    "data_cut = [jieba.lcut(x) for x in txt]\n",
    "data_cut\n",
    "# 3 读取停用词\n",
    "stop = [\" \",\"道\",\"说道\",\"说\",'了']\n",
    "# 4 去掉停用词之后的最终词\n",
    "s_data_cut = pd.Series(data_cut)\n",
    "all_words_after = s_data_cut.apply(lambda x:[i for i in x if i not in stop])\n",
    "# 5 词频统计\n",
    "all_words = []\n",
    "for i in all_words_after:\n",
    "    all_words.extend(i)\n",
    "word_count = pd.Series(all_words).value_counts()\n",
    "# 6 词云图的绘制\n",
    "# 1）读取背景图片\n",
    "\n",
    "\n",
    "# 2）设置词云参数\n",
    "wc = WordCloud(font_path=\"C:/Users/Windows/fonts/simhei.ttf\",\n",
    "               background_color=\"white\",\n",
    "               max_words=2000,\n",
    "               max_font_size=200,\n",
    "               random_state=42\n",
    "              )\n",
    "wc2 = wc.fit_words(word_count)\n",
    "\n",
    "# 3）绘制词云图\n",
    "plt.figure(figsize=(16,8), dpi=300)\n",
    "plt.imshow(wc2)\n",
    "plt.axis(\"off\")\n",
    "plt.show()\n",
    "wc.to_file(\"ciyun.jpg\")\n",
    "\n"
   ],
   "metadata": {
    "collapsed": false
   }
  }
 ],
 "metadata": {
  "kernelspec": {
   "display_name": "Python 3",
   "language": "python",
   "name": "python3"
  },
  "language_info": {
   "codemirror_mode": {
    "name": "ipython",
    "version": 2
   },
   "file_extension": ".py",
   "mimetype": "text/x-python",
   "name": "python",
   "nbconvert_exporter": "python",
   "pygments_lexer": "ipython2",
   "version": "2.7.6"
  }
 },
 "nbformat": 4,
 "nbformat_minor": 0
}
