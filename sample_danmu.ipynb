{
 "cells": [
  {
   "cell_type": "code",
   "execution_count": 188,
   "metadata": {
    "collapsed": true
   },
   "outputs": [],
   "source": []
  },
  {
   "cell_type": "code",
   "execution_count": 189,
   "outputs": [],
   "source": [
    "import requests\n",
    "import json\n",
    "from sklearn.manifold import TSNE\n",
    "\n",
    "import chardet\n",
    "import re\n",
    "import pandas as pd\n",
    "import numpy as np\n",
    "from pprint import pprint\n",
    "import requests\n",
    "from bixin import predict\n",
    "import snownlp\n",
    "import dm_pb2 as Danmaku\n",
    "import sklearn"
   ],
   "metadata": {
    "collapsed": false
   }
  },
  {
   "cell_type": "code",
   "execution_count": 190,
   "outputs": [
    {
     "name": "stdout",
     "output_type": "stream",
     "text": [
      "{'code': 0,\n",
      " 'data': [{'cid': 1105215233,\n",
      "           'dimension': {'height': 1920, 'rotate': 0, 'width': 3840},\n",
      "           'duration': 87,\n",
      "           'first_frame': 'http://i0.hdslb.com/bfs/storyff/n230422a219gylliozq0r520l6kdz8f1_firsti.jpg',\n",
      "           'from': 'vupload',\n",
      "           'page': 1,\n",
      "           'part': '【4K修复+60帧】小鬼 泰裤辣（原版）',\n",
      "           'vid': '',\n",
      "           'weblink': ''}],\n",
      " 'message': '0',\n",
      " 'ttl': 1}\n",
      "1105215233\n"
     ]
    }
   ],
   "source": [
    "# 1.根据bvid请求得到cid\n",
    "bvid = \"BV1bc411H7Gv\"\n",
    "def get_cid():\n",
    "    url = 'https://api.bilibili.com/x/player/pagelist?bvid=BV1bc411H7Gv'\n",
    "    res = requests.get(url).text\n",
    "    json_dict = json.loads(res)\n",
    "    pprint(json_dict)\n",
    "    return (json_dict[\"data\"][0][\"duration\"], json_dict[\"data\"][0][\"cid\"])\n",
    "(max_time, cid) = get_cid()\n",
    "max_time = max_time * 1000\n",
    "\n",
    "print(cid)\n",
    "\n"
   ],
   "metadata": {
    "collapsed": false
   }
  },
  {
   "cell_type": "code",
   "execution_count": 191,
   "outputs": [],
   "source": [
    "# 更新：新版api需要使用proto获取弹幕文件\n",
    "def get_prot_dm(cid):\n",
    "    url = 'https://api.bilibili.com/x/v2/dm/web/seg.so'\n",
    "    params = {\n",
    "        'type': 1,         # 弹幕类型\n",
    "        'oid': cid,    # cid\n",
    "        'segment_index': 1 # 弹幕分段\n",
    "    }\n",
    "    resp = requests.get(url, params)\n",
    "    data = resp.content\n",
    "\n",
    "    danmaku_seg = Danmaku.DmSegMobileReply()\n",
    "    danmaku_seg.ParseFromString(data)\n",
    "\n",
    "    return danmaku_seg.elems\n",
    "\n",
    "danmu_proto = get_prot_dm(cid)"
   ],
   "metadata": {
    "collapsed": false
   }
  },
  {
   "cell_type": "code",
   "execution_count": 192,
   "outputs": [
    {
     "name": "stdout",
     "output_type": "stream",
     "text": [
      "                       id  progress content\n",
      "0     1301402202560179456     23493      哥哥\n",
      "1     1301445531851347456       324    我40帧\n",
      "4     1301467215505580032     52312    油光满面\n",
      "5     1301468690323432448     76163    音乐骤停\n",
      "8     1301487277205294592     51629    脚趾扣地\n",
      "...                   ...       ...     ...\n",
      "3537  1311675716198407680     75684     要来力\n",
      "3538  1311677326215846144     51980   那可太好了\n",
      "3539  1311681064447932160     85094     泰裤辣\n",
      "3540  1311681865090216192       319    我测深圳\n",
      "3541  1311681944009865984     80120    不要不要\n",
      "\n",
      "[2746 rows x 3 columns]\n"
     ]
    }
   ],
   "source": [
    "#得到弹幕 array\n",
    "def to_list(prot):\n",
    "    l = []\n",
    "    for i in range(len(prot)):\n",
    "        l.append({})\n",
    "        l[i][\"id\"] = prot[i].id\n",
    "        l[i][\"progress\"] = prot[i].progress\n",
    "        l[i][\"content\"] = prot[i].content\n",
    "\n",
    "    return l\n",
    "listed_danmu = to_list(danmu_proto)\n",
    "df = pd.DataFrame(listed_danmu)\n",
    "mask = df['content'].str.len() > 10\n",
    "df = df[~mask]\n",
    "df['content'] = df['content'].str.replace('[^\\w\\s]', '')\n",
    "mask = df['content'].str.len() < 1\n",
    "df = df[~mask]\n",
    "df.dropna(subset=['content'], inplace=True)\n",
    "mask = df['content'].str.len() == 0\n",
    "df = df[~mask]\n",
    "print(df)"
   ],
   "metadata": {
    "collapsed": false
   }
  },
  {
   "cell_type": "code",
   "execution_count": 193,
   "outputs": [
    {
     "name": "stdout",
     "output_type": "stream",
     "text": [
      "       content  count  emo  label\n",
      "0         我测深圳     30    2      0\n",
      "1       给我点鸡叫声     13    1      0\n",
      "2   什么都修复只会害了你     12    1      0\n",
      "3        我死在深圳     10    1      0\n",
      "4         我是丁真      9    2      0\n",
      "5    什么都修只会害了你      9    0      0\n",
      "6         我40帧      7    3      0\n",
      "7          泰裤辣      6    3      0\n",
      "8       给我点滋尿声      5    2      0\n",
      "9         我是深圳      5    2      0\n",
      "10         抬裤拉      4    2      0\n",
      "11        油光满面      4    3      0\n",
      "     content  count  emo  label\n",
      "0        董明珠     13    2      1\n",
      "1         病句     10    2      1\n",
      "2        泰裤辣     10    3      1\n",
      "3   如约而至地出现了     10    3      1\n",
      "4       油光满面      9    3      1\n",
      "5          油      6    2      1\n",
      "6        泰裤啦      6    3      1\n",
      "7   如约而至的出现了      5    3      1\n",
      "8     我还是在这里      4    3      1\n",
      "9       杰夫哈迪      4    2      1\n",
      "10        好油      4    3      1\n",
      "  content  count  emo  label\n",
      "0     住医院     16    2      2\n",
      "1    家电下乡     11    4      2\n",
      "2     泰裤辣      7    3      2\n",
      "3     yue      4    3      2\n",
      "4     做阴乐      4    3      2\n",
      "    content  count  emo  label\n",
      "0     那可太好了     27    2      3\n",
      "1       泰裤辣     12    3      3\n",
      "2   哈哈哈哈哈哈哈      9    5      3\n",
      "3       真的吗      8    3      3\n",
      "4    真的吗我不信      8    2      3\n",
      "5       我不信      7    2      3\n",
      "6     那可泰好了      6    3      3\n",
      "7         油      6    2      3\n",
      "8      油光满面      6    3      3\n",
      "9       好尴尬      6    2      3\n",
      "10       假的      5    3      3\n",
      "11      尬死了      4    1      3\n",
      "  content  count  emo  label\n",
      "0     要来力     68    3      4\n",
      "1    开始吟唱     19    4      4\n",
      "2     泰裤辣      8    3      4\n",
      "3    要来力喜      8    3      4\n",
      "4    全文背诵      5    5      4\n",
      "5     我不管      4    3      4\n",
      "  content  count  emo  label\n",
      "0     泰裤辣    188    3      5\n",
      "1     要来力     62    3      5\n",
      "2     泰酷辣     20    3      5\n",
      "3     泰裤啦     17    3      5\n",
      "4     太酷啦      7    3      5\n",
      "5    全体起立      4    1      5\n",
      "6   泰 裤 辣      4    4      5\n",
      "7     太酷了      4    3      5\n"
     ]
    },
    {
     "data": {
      "text/plain": "       content  count  emo  label\n0         我测深圳     30    2      0\n1       给我点鸡叫声     13    1      0\n2   什么都修复只会害了你     12    1      0\n3        我死在深圳     10    1      0\n4         我是丁真      9    2      0\n5    什么都修只会害了你      9    0      0\n6         我40帧      7    3      0\n7          泰裤辣      6    3      0\n8       给我点滋尿声      5    2      0\n9         我是深圳      5    2      0\n10         抬裤拉      4    2      0\n11        油光满面      4    3      0\n0          董明珠     13    2      1\n1           病句     10    2      1\n2          泰裤辣     10    3      1\n3     如约而至地出现了     10    3      1\n4         油光满面      9    3      1\n5            油      6    2      1\n6          泰裤啦      6    3      1\n7     如约而至的出现了      5    3      1\n8       我还是在这里      4    3      1\n9         杰夫哈迪      4    2      1\n10          好油      4    3      1\n0          住医院     16    2      2\n1         家电下乡     11    4      2\n2          泰裤辣      7    3      2\n3          yue      4    3      2\n4          做阴乐      4    3      2\n0        那可太好了     27    2      3\n1          泰裤辣     12    3      3\n2      哈哈哈哈哈哈哈      9    5      3\n3          真的吗      8    3      3\n4       真的吗我不信      8    2      3\n5          我不信      7    2      3\n6        那可泰好了      6    3      3\n7            油      6    2      3\n8         油光满面      6    3      3\n9          好尴尬      6    2      3\n10          假的      5    3      3\n11         尬死了      4    1      3\n0          要来力     68    3      4\n1         开始吟唱     19    4      4\n2          泰裤辣      8    3      4\n3         要来力喜      8    3      4\n4         全文背诵      5    5      4\n5          我不管      4    3      4\n0          泰裤辣    188    3      5\n1          要来力     62    3      5\n2          泰酷辣     20    3      5\n3          泰裤啦     17    3      5\n4          太酷啦      7    3      5\n5         全体起立      4    1      5\n6        泰 裤 辣      4    4      5\n7          太酷了      4    3      5",
      "text/html": "<div>\n<style scoped>\n    .dataframe tbody tr th:only-of-type {\n        vertical-align: middle;\n    }\n\n    .dataframe tbody tr th {\n        vertical-align: top;\n    }\n\n    .dataframe thead th {\n        text-align: right;\n    }\n</style>\n<table border=\"1\" class=\"dataframe\">\n  <thead>\n    <tr style=\"text-align: right;\">\n      <th></th>\n      <th>content</th>\n      <th>count</th>\n      <th>emo</th>\n      <th>label</th>\n    </tr>\n  </thead>\n  <tbody>\n    <tr>\n      <th>0</th>\n      <td>我测深圳</td>\n      <td>30</td>\n      <td>2</td>\n      <td>0</td>\n    </tr>\n    <tr>\n      <th>1</th>\n      <td>给我点鸡叫声</td>\n      <td>13</td>\n      <td>1</td>\n      <td>0</td>\n    </tr>\n    <tr>\n      <th>2</th>\n      <td>什么都修复只会害了你</td>\n      <td>12</td>\n      <td>1</td>\n      <td>0</td>\n    </tr>\n    <tr>\n      <th>3</th>\n      <td>我死在深圳</td>\n      <td>10</td>\n      <td>1</td>\n      <td>0</td>\n    </tr>\n    <tr>\n      <th>4</th>\n      <td>我是丁真</td>\n      <td>9</td>\n      <td>2</td>\n      <td>0</td>\n    </tr>\n    <tr>\n      <th>5</th>\n      <td>什么都修只会害了你</td>\n      <td>9</td>\n      <td>0</td>\n      <td>0</td>\n    </tr>\n    <tr>\n      <th>6</th>\n      <td>我40帧</td>\n      <td>7</td>\n      <td>3</td>\n      <td>0</td>\n    </tr>\n    <tr>\n      <th>7</th>\n      <td>泰裤辣</td>\n      <td>6</td>\n      <td>3</td>\n      <td>0</td>\n    </tr>\n    <tr>\n      <th>8</th>\n      <td>给我点滋尿声</td>\n      <td>5</td>\n      <td>2</td>\n      <td>0</td>\n    </tr>\n    <tr>\n      <th>9</th>\n      <td>我是深圳</td>\n      <td>5</td>\n      <td>2</td>\n      <td>0</td>\n    </tr>\n    <tr>\n      <th>10</th>\n      <td>抬裤拉</td>\n      <td>4</td>\n      <td>2</td>\n      <td>0</td>\n    </tr>\n    <tr>\n      <th>11</th>\n      <td>油光满面</td>\n      <td>4</td>\n      <td>3</td>\n      <td>0</td>\n    </tr>\n    <tr>\n      <th>0</th>\n      <td>董明珠</td>\n      <td>13</td>\n      <td>2</td>\n      <td>1</td>\n    </tr>\n    <tr>\n      <th>1</th>\n      <td>病句</td>\n      <td>10</td>\n      <td>2</td>\n      <td>1</td>\n    </tr>\n    <tr>\n      <th>2</th>\n      <td>泰裤辣</td>\n      <td>10</td>\n      <td>3</td>\n      <td>1</td>\n    </tr>\n    <tr>\n      <th>3</th>\n      <td>如约而至地出现了</td>\n      <td>10</td>\n      <td>3</td>\n      <td>1</td>\n    </tr>\n    <tr>\n      <th>4</th>\n      <td>油光满面</td>\n      <td>9</td>\n      <td>3</td>\n      <td>1</td>\n    </tr>\n    <tr>\n      <th>5</th>\n      <td>油</td>\n      <td>6</td>\n      <td>2</td>\n      <td>1</td>\n    </tr>\n    <tr>\n      <th>6</th>\n      <td>泰裤啦</td>\n      <td>6</td>\n      <td>3</td>\n      <td>1</td>\n    </tr>\n    <tr>\n      <th>7</th>\n      <td>如约而至的出现了</td>\n      <td>5</td>\n      <td>3</td>\n      <td>1</td>\n    </tr>\n    <tr>\n      <th>8</th>\n      <td>我还是在这里</td>\n      <td>4</td>\n      <td>3</td>\n      <td>1</td>\n    </tr>\n    <tr>\n      <th>9</th>\n      <td>杰夫哈迪</td>\n      <td>4</td>\n      <td>2</td>\n      <td>1</td>\n    </tr>\n    <tr>\n      <th>10</th>\n      <td>好油</td>\n      <td>4</td>\n      <td>3</td>\n      <td>1</td>\n    </tr>\n    <tr>\n      <th>0</th>\n      <td>住医院</td>\n      <td>16</td>\n      <td>2</td>\n      <td>2</td>\n    </tr>\n    <tr>\n      <th>1</th>\n      <td>家电下乡</td>\n      <td>11</td>\n      <td>4</td>\n      <td>2</td>\n    </tr>\n    <tr>\n      <th>2</th>\n      <td>泰裤辣</td>\n      <td>7</td>\n      <td>3</td>\n      <td>2</td>\n    </tr>\n    <tr>\n      <th>3</th>\n      <td>yue</td>\n      <td>4</td>\n      <td>3</td>\n      <td>2</td>\n    </tr>\n    <tr>\n      <th>4</th>\n      <td>做阴乐</td>\n      <td>4</td>\n      <td>3</td>\n      <td>2</td>\n    </tr>\n    <tr>\n      <th>0</th>\n      <td>那可太好了</td>\n      <td>27</td>\n      <td>2</td>\n      <td>3</td>\n    </tr>\n    <tr>\n      <th>1</th>\n      <td>泰裤辣</td>\n      <td>12</td>\n      <td>3</td>\n      <td>3</td>\n    </tr>\n    <tr>\n      <th>2</th>\n      <td>哈哈哈哈哈哈哈</td>\n      <td>9</td>\n      <td>5</td>\n      <td>3</td>\n    </tr>\n    <tr>\n      <th>3</th>\n      <td>真的吗</td>\n      <td>8</td>\n      <td>3</td>\n      <td>3</td>\n    </tr>\n    <tr>\n      <th>4</th>\n      <td>真的吗我不信</td>\n      <td>8</td>\n      <td>2</td>\n      <td>3</td>\n    </tr>\n    <tr>\n      <th>5</th>\n      <td>我不信</td>\n      <td>7</td>\n      <td>2</td>\n      <td>3</td>\n    </tr>\n    <tr>\n      <th>6</th>\n      <td>那可泰好了</td>\n      <td>6</td>\n      <td>3</td>\n      <td>3</td>\n    </tr>\n    <tr>\n      <th>7</th>\n      <td>油</td>\n      <td>6</td>\n      <td>2</td>\n      <td>3</td>\n    </tr>\n    <tr>\n      <th>8</th>\n      <td>油光满面</td>\n      <td>6</td>\n      <td>3</td>\n      <td>3</td>\n    </tr>\n    <tr>\n      <th>9</th>\n      <td>好尴尬</td>\n      <td>6</td>\n      <td>2</td>\n      <td>3</td>\n    </tr>\n    <tr>\n      <th>10</th>\n      <td>假的</td>\n      <td>5</td>\n      <td>3</td>\n      <td>3</td>\n    </tr>\n    <tr>\n      <th>11</th>\n      <td>尬死了</td>\n      <td>4</td>\n      <td>1</td>\n      <td>3</td>\n    </tr>\n    <tr>\n      <th>0</th>\n      <td>要来力</td>\n      <td>68</td>\n      <td>3</td>\n      <td>4</td>\n    </tr>\n    <tr>\n      <th>1</th>\n      <td>开始吟唱</td>\n      <td>19</td>\n      <td>4</td>\n      <td>4</td>\n    </tr>\n    <tr>\n      <th>2</th>\n      <td>泰裤辣</td>\n      <td>8</td>\n      <td>3</td>\n      <td>4</td>\n    </tr>\n    <tr>\n      <th>3</th>\n      <td>要来力喜</td>\n      <td>8</td>\n      <td>3</td>\n      <td>4</td>\n    </tr>\n    <tr>\n      <th>4</th>\n      <td>全文背诵</td>\n      <td>5</td>\n      <td>5</td>\n      <td>4</td>\n    </tr>\n    <tr>\n      <th>5</th>\n      <td>我不管</td>\n      <td>4</td>\n      <td>3</td>\n      <td>4</td>\n    </tr>\n    <tr>\n      <th>0</th>\n      <td>泰裤辣</td>\n      <td>188</td>\n      <td>3</td>\n      <td>5</td>\n    </tr>\n    <tr>\n      <th>1</th>\n      <td>要来力</td>\n      <td>62</td>\n      <td>3</td>\n      <td>5</td>\n    </tr>\n    <tr>\n      <th>2</th>\n      <td>泰酷辣</td>\n      <td>20</td>\n      <td>3</td>\n      <td>5</td>\n    </tr>\n    <tr>\n      <th>3</th>\n      <td>泰裤啦</td>\n      <td>17</td>\n      <td>3</td>\n      <td>5</td>\n    </tr>\n    <tr>\n      <th>4</th>\n      <td>太酷啦</td>\n      <td>7</td>\n      <td>3</td>\n      <td>5</td>\n    </tr>\n    <tr>\n      <th>5</th>\n      <td>全体起立</td>\n      <td>4</td>\n      <td>1</td>\n      <td>5</td>\n    </tr>\n    <tr>\n      <th>6</th>\n      <td>泰 裤 辣</td>\n      <td>4</td>\n      <td>4</td>\n      <td>5</td>\n    </tr>\n    <tr>\n      <th>7</th>\n      <td>太酷了</td>\n      <td>4</td>\n      <td>3</td>\n      <td>5</td>\n    </tr>\n  </tbody>\n</table>\n</div>"
     },
     "execution_count": 193,
     "metadata": {},
     "output_type": "execute_result"
    }
   ],
   "source": [
    "#divide into 6 parts according to time variation\n",
    "def classify_sentiment(s):\n",
    "    if(s<0.166):\n",
    "        return 0\n",
    "    if(s<0.333):\n",
    "        return 1\n",
    "    if(s<0.5):\n",
    "        return 2\n",
    "    if(s<0.666):\n",
    "        return 3\n",
    "    if(s<0.833):\n",
    "        return 4\n",
    "    if(s<=1):\n",
    "        return 5\n",
    "def get_sentiment(text):\n",
    "    s = snownlp.SnowNLP(text)\n",
    "    return classify_sentiment(s.sentiments)\n",
    "index = 0\n",
    "leftop = pd.DataFrame()\n",
    "\n",
    "for i in range(6):\n",
    "    start_time = max_time * i / 6\n",
    "    end_time = max_time * (i+1) / 6\n",
    "    tmp = df[(df['progress'] >= start_time) & (df['progress'] <= end_time)]\n",
    "    tmp = tmp['content'].value_counts()\n",
    "    tmp = pd.DataFrame({'content': tmp.index, 'count': tmp.values})\n",
    "    mask = tmp['count'].values <= 3\n",
    "    tmp = tmp[~mask]\n",
    "    tmp['emo'] = tmp['content'].apply(get_sentiment)\n",
    "    tmp['label'] = index\n",
    "    print(tmp)\n",
    "    leftop = pd.concat([leftop, tmp], axis=0)\n",
    "\n",
    "    index+=1\n",
    "\n",
    "leftop.to_csv(\"video.csv\",index=False)\n",
    "counts = df['content'].value_counts()\n",
    "leftop"
   ],
   "metadata": {
    "collapsed": false
   }
  },
  {
   "cell_type": "code",
   "execution_count": 194,
   "outputs": [],
   "source": [
    "# 2.根据cid请求弹幕，解析弹幕得到最终的数据\n",
    "\n",
    "# def get_data(cid):\n",
    "#     final_url = \"https://api.bilibili.com/x/v1/dm/list.so?oid=\" + str(cid)\n",
    "#     final_res = requests.get(final_url)\n",
    "#     final_res.encoding = chardet.detect(final_res.content)['encoding']\n",
    "#     final_res = final_res.text\n",
    "#     pattern = re.compile('<d.*?>(.*?)</d>')\n",
    "#     match = re.compile(r'<d\\s+[^>]*\\bp=\"([^\"]*)\"')\n",
    "#     pa = match.findall(final_res)\n",
    "#\n",
    "#     data = pattern.findall(final_res)\n",
    "#     danmu_time = [float(item.split(',')[0]) for item in pa]\n",
    "#     danmu_mode = [float(item.split(',')[1]) for item in pa]\n",
    "#     danmu_size = [float(item.split(',')[2]) for item in pa]\n",
    "#     danmu_color = [float(item.split(',')[3]) for item in pa]\n",
    "#     danmu_abstime = [float(item.split(',')[4]) for item in pa]\n",
    "#     danmu_pool = [float(item.split(',')[5]) for item in pa]\n",
    "#     danmu_id = [(item.split(',')[6]) for item in pa]\n",
    "#     danmu_rowid = [float(item.split(',')[7]) for item in pa]\n",
    "#     print(len(data))\n",
    "#     return (data, danmu_time, danmu_mode, danmu_size, danmu_color, danmu_abstime, danmu_pool, danmu_id, danmu_rowid)\n",
    "#\n",
    "#\n",
    "# (danmu_text, danmu_time, danmu_mode, danmu_size, danmu_color, danmu_abstime, danmu_pool, danmu_id, danmu_rowid) = get_data(cid)"
   ],
   "metadata": {
    "collapsed": false
   }
  },
  {
   "cell_type": "code",
   "execution_count": 195,
   "outputs": [],
   "source": [
    "# # 分割弹幕为八个部分\n",
    "# # 视频持续时间\n",
    "# max_time = max(danmu_time)\n",
    "# divided_danmu = []\n",
    "# for i in range(8):\n",
    "#     time_start = max_time * (i/8)\n",
    "#     time_stop = max_time * ((i+1)/8)\n",
    "#     for j in range(len(danmu_time)):\n",
    "#         if time_start <= danmu_time[j] <= time_stop:\n",
    "#             divided_danmu.append([i, danmu_text[j]])\n",
    "# print(len(danmu_time))"
   ],
   "metadata": {
    "collapsed": false
   }
  },
  {
   "cell_type": "code",
   "execution_count": 196,
   "outputs": [],
   "source": [
    "# export csv\n",
    "# arr = np.array(divided_danmu)\n",
    "# df = pd.DataFrame(arr)\n",
    "# df.to_csv(\"video.csv\", header=[\"label\", \"text\"])"
   ],
   "metadata": {
    "collapsed": false
   }
  },
  {
   "cell_type": "code",
   "execution_count": 197,
   "outputs": [
    {
     "name": "stdout",
     "output_type": "stream",
     "text": [
      "{'aid': 823813911, 'videos': 1, 'tid': 130, 'tname': '音乐综合', 'copyright': 2, 'pic': 'http://i1.hdslb.com/bfs/archive/71dc7d0fa214d6db90ccd6ddd247630169fb6cb5.jpg', 'title': '小鬼最新现场，不知道该怎么评价了…..', 'pubdate': 1679316322, 'ctime': 1679316322, 'desc': 'tiktok', 'state': 0, 'duration': 15, 'rights': {'bp': 0, 'elec': 0, 'download': 0, 'movie': 0, 'pay': 0, 'hd5': 0, 'no_reprint': 0, 'autoplay': 1, 'ugc_pay': 0, 'is_cooperation': 0, 'ugc_pay_preview': 0, 'no_background': 0, 'arc_pay': 0, 'pay_free_watch': 0}, 'owner': {'mid': 269870290, 'name': '我养黑怕', 'face': 'https://i1.hdslb.com/bfs/face/da0811f5d71f2c62a09be4a73054d37e3d7ed248.jpg'}, 'stat': {'aid': 823813911, 'view': 4472398, 'danmaku': 2649, 'reply': 4905, 'favorite': 28620, 'coin': 3679, 'share': 107793, 'now_rank': 0, 'his_rank': 0, 'like': 68816, 'dislike': 0, 'vt': 0, 'vv': 4472398}, 'dynamic': '', 'cid': 1061985317, 'dimension': {'width': 1080, 'height': 1920, 'rotate': 0}, 'short_link_v2': 'https://b23.tv/BV1Hg4y1x77p', 'up_from_v2': 36, 'first_frame': 'http://i0.hdslb.com/bfs/storyff/n230320a2jq1x29skrd2m7qzbu6doem7_firsti.jpg', 'pub_location': '云南', 'bvid': 'BV1Hg4y1x77p', 'season_type': 0, 'is_ogv': False, 'ogv_info': None, 'rcmd_reason': ''}\n"
     ]
    }
   ],
   "source": [
    "def get_relate(bvid):\n",
    "    # 设置请求参数\n",
    "    params = {\n",
    "        \"bvid\": bvid,  # 你想获取推荐视频的原始视频的bid\n",
    "        \"num\": 1,  # 获取的推荐视频数量，最多为40\n",
    "    }\n",
    "\n",
    "    # 发送请求\n",
    "    response = requests.get(\"https://api.bilibili.com/x/web-interface/archive/related\", params=params)\n",
    "\n",
    "    # 解析响应\n",
    "    if response.status_code == 200:\n",
    "        data = response.json()\n",
    "        recommend_list = data.get(\"data\")\n",
    "        # 处理推荐视频列表数据\n",
    "        return recommend_list\n",
    "    else:\n",
    "        print(\"请求失败\")\n",
    "\n",
    "relate_list = get_relate(bvid)\n",
    "print(relate_list[0])"
   ],
   "metadata": {
    "collapsed": false
   }
  },
  {
   "cell_type": "code",
   "execution_count": null,
   "outputs": [],
   "source": [
    "#迭代获取其他视频的推荐\n",
    "index = 0\n",
    "whole_related_df = pd.DataFrame()\n",
    "for it in relate_list:\n",
    "    danmu_relate = get_prot_dm(it['cid'])\n",
    "    #preprocess\n",
    "    listed_danmu = to_list(danmu_relate)\n",
    "    df = pd.DataFrame(listed_danmu)\n",
    "    mask = df['content'].str.len() > 10\n",
    "    df = df[~mask]\n",
    "    df['content'] = df['content'].str.replace('[^\\w\\s]', '')\n",
    "    df['content'] = df['content'].str.replace('哈', '')\n",
    "    df['content'] = df['content'].str.replace('嘿', '')\n",
    "    df['content'] = df['content'].str.replace('啊', '')\n",
    "    df['content'] = df['content'].str.replace('6', '')\n",
    "    mask = df['content'].str.len() <= 1\n",
    "    df = df[~mask]\n",
    "    df.dropna(subset=['content'], inplace=True)\n",
    "    #end of preprocess\n",
    "    relate_tmp = df['content'].value_counts()\n",
    "    relate_tmp = pd.DataFrame({'content': relate_tmp.index, 'count': relate_tmp.values})\n",
    "    relate_tmp['emo'] = relate_tmp['content'].apply(get_sentiment)\n",
    "    relate_tmp.to_csv(\"relate_video_\"+str(index)+\".csv\")\n",
    "    whole_related_df = pd.concat([df, whole_related_df], axis=0)\n",
    "\n",
    "    index+=1\n",
    "\n",
    "whole_related_df['id'] /= 100000000\n",
    "whole_related_df"
   ],
   "metadata": {
    "collapsed": false,
    "pycharm": {
     "is_executing": true
    }
   }
  },
  {
   "cell_type": "code",
   "execution_count": null,
   "outputs": [],
   "source": [
    "# whole_count = whole_related_df['content'].value_counts()\n",
    "# whole_count = pd.DataFrame({'content': whole_count.index, 'count': whole_count.values})\n",
    "whole_count = whole_related_df.groupby('content').agg({'id': 'sum', 'content': 'size'}).rename(columns={'content': 'count'}).reset_index()\n",
    "mask = whole_count['count'].values <= 5\n",
    "whole_count = whole_count[~mask]\n",
    "whole_count\n",
    "whole_count['emo'] = whole_count['content'].apply(get_sentiment)"
   ],
   "metadata": {
    "collapsed": false,
    "pycharm": {
     "is_executing": true
    }
   }
  },
  {
   "cell_type": "code",
   "execution_count": null,
   "outputs": [],
   "source": [
    "whole_count.to_csv(\"main.csv\")\n",
    "print(whole_count)\n",
    "whole_count"
   ],
   "metadata": {
    "collapsed": false,
    "pycharm": {
     "is_executing": true
    }
   }
  },
  {
   "cell_type": "code",
   "execution_count": null,
   "outputs": [],
   "source": [
    "# 降维 用于主图\n",
    "# 使用t-SNE进行降维\n",
    "mask = whole_count['content'].str.len() <= 1\n",
    "whole_count = whole_count[~mask]\n",
    "tsne = TSNE(n_components=2, random_state=42)\n",
    "embedding = tsne.fit_transform(whole_count.drop('content', axis=1))\n",
    "\n",
    "# 创建降维后的DataFrame\n",
    "df_tsne = pd.DataFrame(embedding, columns=['Dimension 1', 'Dimension 2'])\n",
    "whole_count.index = df_tsne.index\n",
    "df_tsne['content'] = whole_count['content']\n",
    "df_tsne['count'] = whole_count['count']\n",
    "df_tsne.to_csv(\"tsne.csv\")\n",
    "df_tsne\n"
   ],
   "metadata": {
    "collapsed": false,
    "pycharm": {
     "is_executing": true
    }
   }
  },
  {
   "cell_type": "code",
   "execution_count": null,
   "outputs": [],
   "source": [
    "#河流图\n",
    "index = 0\n",
    "river = pd.DataFrame()\n",
    "for i in range(10):\n",
    "    start_time = max_time * i / 10\n",
    "    end_time = max_time * (i+1) / 10\n",
    "    tmp = whole_related_df[(whole_related_df['progress'] >= start_time) & (whole_related_df['progress'] <= end_time)]\n",
    "    tmp = tmp['content'].value_counts()\n",
    "    tmp = pd.DataFrame({'content': tmp.index, 'count': tmp.values})\n",
    "    mask = tmp['count'].values <= 3\n",
    "    tmp['emo'] = tmp['content'].apply(get_sentiment)\n",
    "    tmp = tmp['emo'].value_counts()\n",
    "    tmp = tmp.sort_index()\n",
    "    tmp = pd.DataFrame(tmp)\n",
    "    tmp = tmp.T\n",
    "    river = pd.concat([river, tmp], axis=0)\n",
    "river.to_csv()\n"
   ],
   "metadata": {
    "collapsed": false,
    "pycharm": {
     "is_executing": true
    }
   }
  },
  {
   "cell_type": "code",
   "execution_count": null,
   "outputs": [],
   "source": [
    "# # 3.保存弹幕列表\n",
    "#\n",
    "# def save_to_file(data):\n",
    "#     with open(\"dan_mu.txt\", mode=\"w\", encoding=\"utf-8\") as f:\n",
    "#         for i in data:\n",
    "#             f.write(i)\n",
    "#             f.write(\"\\n\")\n",
    "# save_to_file(data)\n"
   ],
   "metadata": {
    "collapsed": false,
    "pycharm": {
     "is_executing": true
    }
   }
  },
  {
   "cell_type": "code",
   "execution_count": null,
   "outputs": [],
   "source": [
    "# # 1 导入相关库\n",
    "# import pandas as pd\n",
    "# import jieba\n",
    "# from wordcloud import WordCloud\n",
    "# import matplotlib.pyplot as plt\n",
    "# from imageio import imread"
   ],
   "metadata": {
    "collapsed": false,
    "pycharm": {
     "is_executing": true
    }
   }
  },
  {
   "cell_type": "code",
   "execution_count": null,
   "outputs": [],
   "source": [
    "# # 目标视频文件的处理\n",
    "# df = pd.read_csv(\"video.csv\")\n",
    "# array = np.array(df)\n",
    "# content = array[:, 3]\n",
    "# progress = array"
   ],
   "metadata": {
    "collapsed": false,
    "pycharm": {
     "is_executing": true
    }
   }
  },
  {
   "cell_type": "code",
   "execution_count": null,
   "outputs": [],
   "source": [
    "\n",
    "# import warnings\n",
    "# warnings.filterwarnings(\"ignore\")\n",
    "#\n",
    "# # 2 读取文本文件，并使用lcut()方法进行分词\n",
    "# with open(\"video.csv\",encoding=\"utf-8\") as f:\n",
    "#     txt = f.read()\n",
    "# txt = txt.split()\n",
    "# data_cut = [jieba.lcut(x) for x in txt]\n",
    "# data_cut\n",
    "# # 3 读取停用词\n",
    "# stop = [\" \",\"道\",\"说道\",\"说\",'了']\n",
    "# # 4 去掉停用词之后的最终词\n",
    "# s_data_cut = pd.Series(data_cut)\n",
    "# all_words_after = s_data_cut.apply(lambda x:[i for i in x if i not in stop])\n",
    "# # 5 词频统计\n",
    "# all_words = []\n",
    "# for i in all_words_after:\n",
    "#     all_words.extend(i)\n",
    "# word_count = pd.Series(all_words).value_counts()\n",
    "# # 6 词云图的绘制\n",
    "# # 1）读取背景图片\n",
    "#\n",
    "#\n",
    "# # 2）设置词云参数\n",
    "# wc = WordCloud(font_path=\"C:/Users/Windows/fonts/simhei.ttf\",\n",
    "#                background_color=\"white\",\n",
    "#                max_words=2000,\n",
    "#                max_font_size=200,\n",
    "#                random_state=42\n",
    "#               )\n",
    "# wc2 = wc.fit_words(word_count)\n",
    "#\n",
    "# # 3）绘制词云图\n",
    "# plt.figure(figsize=(16,8), dpi=300)\n",
    "# plt.imshow(wc2)\n",
    "# plt.axis(\"off\")\n",
    "# plt.show()\n",
    "# wc.to_file(\"ciyun.jpg\")\n",
    "\n"
   ],
   "metadata": {
    "collapsed": false,
    "pycharm": {
     "is_executing": true
    }
   }
  }
 ],
 "metadata": {
  "kernelspec": {
   "display_name": "Python 3",
   "language": "python",
   "name": "python3"
  },
  "language_info": {
   "codemirror_mode": {
    "name": "ipython",
    "version": 2
   },
   "file_extension": ".py",
   "mimetype": "text/x-python",
   "name": "python",
   "nbconvert_exporter": "python",
   "pygments_lexer": "ipython2",
   "version": "2.7.6"
  }
 },
 "nbformat": 4,
 "nbformat_minor": 0
}
